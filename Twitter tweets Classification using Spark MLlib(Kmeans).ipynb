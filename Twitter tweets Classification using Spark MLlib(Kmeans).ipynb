{
 "cells": [
  {
   "cell_type": "code",
   "execution_count": 1,
   "metadata": {},
   "outputs": [],
   "source": [
    "import findspark"
   ]
  },
  {
   "cell_type": "code",
   "execution_count": 2,
   "metadata": {},
   "outputs": [],
   "source": [
    "findspark.init(\"/home/hp/spark-3.0.0-bin-hadoop2.7\") "
   ]
  },
  {
   "cell_type": "code",
   "execution_count": 3,
   "metadata": {},
   "outputs": [],
   "source": [
    "import pyspark"
   ]
  },
  {
   "cell_type": "code",
   "execution_count": 4,
   "metadata": {},
   "outputs": [],
   "source": [
    "from pyspark import SparkContext\n",
    "from pyspark.mllib.linalg import Vectors\n",
    "from pyspark.mllib.regression import LabeledPoint\n",
    "import numpy\n",
    "from pyspark.mllib.clustering import KMeans"
   ]
  },
  {
   "cell_type": "code",
   "execution_count": 5,
   "metadata": {},
   "outputs": [],
   "source": [
    "sc = SparkContext('local', 'name')\n"
   ]
  },
  {
   "cell_type": "markdown",
   "metadata": {},
   "source": [
    "# Loading the train and test files "
   ]
  },
  {
   "cell_type": "code",
   "execution_count": 6,
   "metadata": {},
   "outputs": [],
   "source": [
    "trainRDD = sc.textFile(\"/home/hp/sparkmllib/twitter datasets/train.csv\")\n",
    "testRDD=sc.textFile(\"/home/hp/sparkmllib/twitter datasets/test.csv\")"
   ]
  },
  {
   "cell_type": "markdown",
   "metadata": {},
   "source": [
    "# Loading the files containing positive and negative words"
   ]
  },
  {
   "cell_type": "code",
   "execution_count": 7,
   "metadata": {},
   "outputs": [],
   "source": [
    "f1 = open('/home/hp/sparkmllib/twitter datasets/positive-words.txt')\n",
    "\n",
    "#print(f1.readlines())\n",
    "positive = [x.split('\\n')[0] for x in f1.readlines()]\n",
    "#print(positive)\n",
    "f2 = open(\"/home/hp/sparkmllib/twitter datasets/negative-words.txt\")\n",
    "negative = [x.split('\\n')[0] for x in f2.readlines()]\n",
    "# print(negative)"
   ]
  },
  {
   "cell_type": "markdown",
   "metadata": {},
   "source": [
    "# TRAIN DATASET"
   ]
  },
  {
   "cell_type": "code",
   "execution_count": 8,
   "metadata": {},
   "outputs": [
    {
     "name": "stdout",
     "output_type": "stream",
     "text": [
      "ItemID,Sentiment,SentimentText,,,,,,,,,\n",
      "1,0,                     is so sad for my APL friend.............,,,,,,,,,\n",
      "2,0,                   I missed the New Moon trailer...,,,,,,,,,\n",
      "3,1,              omg its already 7:30 :O,,,,,,,,,\n",
      "4,0,          .. Omgaga. Im sooo  im gunna CRy. I've been at this dentist since 11.. I was suposed 2 just get a crown put on (30mins)...,,,,,,,,,\n",
      "5,0,         i think mi bf is cheating on me!!!       T_T,,,,,,,,,\n",
      "6,0,         or i just worry too much?        ,,,,,,,,,\n",
      "7,1,       Juuuuuuuuuuuuuuuuussssst Chillin!!,,,,,,,,,\n",
      "8,0,       Sunny Again        Work Tomorrow  :-|       TV Tonight,,,,,,,,,\n",
      "9,1,      handed in my uniform today . i miss you already,,,,,,,,,\n",
      "10,1,      hmmmm.... i wonder how she my number @-),,,,,,,,,\n"
     ]
    }
   ],
   "source": [
    "for l in trainRDD.take(11):\n",
    "    print(l)\n",
    "header = trainRDD.first()\n",
    "\n",
    "trainRDD = trainRDD.filter(lambda line: line!=header)\n",
    "trainRDD = trainRDD.map(lambda line:line.split(',',2)[2])\n"
   ]
  },
  {
   "cell_type": "markdown",
   "metadata": {},
   "source": [
    "# Extracting features from Sentiment text\n",
    "Comparing the words in sentiment text with postive and negative words\n"
   ]
  },
  {
   "cell_type": "code",
   "execution_count": 9,
   "metadata": {},
   "outputs": [],
   "source": [
    "feature = trainRDD.map(lambda line : [sum([1 if x in positive else 0 for x in line.split()]),\n",
    "                                      sum([1 if x in negative else 0 for x in line.split()])\n",
    "                                      ])\n"
   ]
  },
  {
   "cell_type": "markdown",
   "metadata": {},
   "source": [
    "# Assigning label to each feature to get labelled points"
   ]
  },
  {
   "cell_type": "code",
   "execution_count": 10,
   "metadata": {},
   "outputs": [],
   "source": [
    "train_label_point = feature.map(lambda x:LabeledPoint(0 if x[0]==max(x) else 1,\n",
    "                                             Vectors.dense(numpy.array(x))))\n"
   ]
  },
  {
   "cell_type": "code",
   "execution_count": 11,
   "metadata": {},
   "outputs": [
    {
     "name": "stdout",
     "output_type": "stream",
     "text": [
      "(1.0,[0.0,1.0])\n",
      "(1.0,[0.0,1.0])\n",
      "(0.0,[0.0,0.0])\n",
      "(0.0,[0.0,0.0])\n",
      "(1.0,[0.0,1.0])\n",
      "(1.0,[0.0,1.0])\n",
      "(0.0,[0.0,0.0])\n",
      "(0.0,[0.0,0.0])\n",
      "(1.0,[0.0,1.0])\n",
      "(0.0,[1.0,0.0])\n"
     ]
    }
   ],
   "source": [
    "for l in train_label_point.take(10):\n",
    "    print(l)"
   ]
  },
  {
   "cell_type": "markdown",
   "metadata": {},
   "source": [
    "# TEST DATASET \n",
    "Repeating all the operations performed on train data for test data as well"
   ]
  },
  {
   "cell_type": "code",
   "execution_count": 12,
   "metadata": {},
   "outputs": [
    {
     "name": "stdout",
     "output_type": "stream",
     "text": [
      "ItemID,SentimentText\n",
      "1,                     is so sad for my APL friend.............\n",
      "2,                   I missed the New Moon trailer...\n",
      "3,              omg its already 7:30 :O\n",
      "4,          .. Omgaga. Im sooo  im gunna CRy. I've been at this dentist since 11.. I was suposed 2 just get a crown put on (30mins)...\n",
      "5,         i think mi bf is cheating on me!!!       T_T\n",
      "6,         or i just worry too much?        \n",
      "7,       Juuuuuuuuuuuuuuuuussssst Chillin!!\n",
      "8,       Sunny Again        Work Tomorrow  :-|       TV Tonight\n",
      "9,      handed in my uniform today . i miss you already\n",
      "10,      hmmmm.... i wonder how she my number @-)\n"
     ]
    }
   ],
   "source": [
    "for l in testRDD.take(11):\n",
    "    print(l)\n",
    "# testRDD.foreach(print)\n",
    "\n",
    "header = testRDD.first()\n",
    "testRDD = testRDD.filter(lambda x:x!=header).map(lambda x:x.split(',' ,1)[1])\n"
   ]
  },
  {
   "cell_type": "code",
   "execution_count": 13,
   "metadata": {},
   "outputs": [],
   "source": [
    "test_feature = testRDD.map(lambda line : [sum([1 if x in positive else 0 for x in line.split()]),\n",
    "                                      sum([1 if x in negative else 0 for x in line.split()])\n",
    "                                      ])"
   ]
  },
  {
   "cell_type": "code",
   "execution_count": 14,
   "metadata": {},
   "outputs": [],
   "source": [
    "test_lp = test_feature.map(lambda x:LabeledPoint(0 if x[0]==max(x) else 1,\n",
    "                                             Vectors.dense(numpy.array(x))))\n"
   ]
  },
  {
   "cell_type": "markdown",
   "metadata": {},
   "source": [
    "# MODELLING"
   ]
  },
  {
   "cell_type": "code",
   "execution_count": 15,
   "metadata": {},
   "outputs": [],
   "source": [
    "train_features = train_label_point.map(lambda lp:lp.features)\n"
   ]
  },
  {
   "cell_type": "code",
   "execution_count": 16,
   "metadata": {},
   "outputs": [],
   "source": [
    "model = KMeans.train(train_features, k =2 ,seed=1 , maxIterations=2)\n"
   ]
  },
  {
   "cell_type": "code",
   "execution_count": 17,
   "metadata": {},
   "outputs": [
    {
     "name": "stdout",
     "output_type": "stream",
     "text": [
      "[0.41513238 0.        ]\n",
      "[0.39614353 1.19231481]\n"
     ]
    }
   ],
   "source": [
    "for center in model.clusterCenters:\n",
    "    print(center)\n"
   ]
  },
  {
   "cell_type": "code",
   "execution_count": 18,
   "metadata": {},
   "outputs": [],
   "source": [
    "test_feature = test_lp.map(lambda lp : lp.features)"
   ]
  },
  {
   "cell_type": "code",
   "execution_count": 19,
   "metadata": {},
   "outputs": [],
   "source": [
    "tes = test_lp.map(lambda x: [x.label, float(model.predict(x.features))])"
   ]
  },
  {
   "cell_type": "code",
   "execution_count": 20,
   "metadata": {},
   "outputs": [
    {
     "name": "stdout",
     "output_type": "stream",
     "text": [
      "[1.0, 1.0]\n",
      "[1.0, 1.0]\n",
      "[0.0, 0.0]\n",
      "[0.0, 0.0]\n",
      "[1.0, 1.0]\n",
      "[1.0, 1.0]\n",
      "[0.0, 0.0]\n",
      "[0.0, 0.0]\n",
      "[1.0, 1.0]\n",
      "[0.0, 0.0]\n"
     ]
    }
   ],
   "source": [
    "for i in tes.take(10):\n",
    "    print(i)"
   ]
  },
  {
   "cell_type": "code",
   "execution_count": null,
   "metadata": {},
   "outputs": [],
   "source": []
  }
 ],
 "metadata": {
  "kernelspec": {
   "display_name": "Python 3",
   "language": "python",
   "name": "python3"
  },
  "language_info": {
   "codemirror_mode": {
    "name": "ipython",
    "version": 3
   },
   "file_extension": ".py",
   "mimetype": "text/x-python",
   "name": "python",
   "nbconvert_exporter": "python",
   "pygments_lexer": "ipython3",
   "version": "3.8.3"
  }
 },
 "nbformat": 4,
 "nbformat_minor": 4
}
